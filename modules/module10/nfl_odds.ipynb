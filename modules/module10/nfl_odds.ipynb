{
 "cells": [
  {
   "cell_type": "code",
   "execution_count": 1,
   "metadata": {},
   "outputs": [
    {
     "ename": "ModuleNotFoundError",
     "evalue": "No module named 'splinter'",
     "output_type": "error",
     "traceback": [
      "\u001b[0;31m---------------------------------------------------------------------------\u001b[0m",
      "\u001b[0;31mModuleNotFoundError\u001b[0m                       Traceback (most recent call last)",
      "\u001b[0;32m<ipython-input-1-034c20f4149b>\u001b[0m in \u001b[0;36m<module>\u001b[0;34m\u001b[0m\n\u001b[1;32m      1\u001b[0m \u001b[0;31m# Import Splinter and BeautifulSoup\u001b[0m\u001b[0;34m\u001b[0m\u001b[0;34m\u001b[0m\u001b[0;34m\u001b[0m\u001b[0m\n\u001b[0;32m----> 2\u001b[0;31m \u001b[0;32mfrom\u001b[0m \u001b[0msplinter\u001b[0m \u001b[0;32mimport\u001b[0m \u001b[0mBrowser\u001b[0m\u001b[0;34m\u001b[0m\u001b[0;34m\u001b[0m\u001b[0m\n\u001b[0m\u001b[1;32m      3\u001b[0m \u001b[0;32mfrom\u001b[0m \u001b[0mbs4\u001b[0m \u001b[0;32mimport\u001b[0m \u001b[0mBeautifulSoup\u001b[0m \u001b[0;32mas\u001b[0m \u001b[0msoup\u001b[0m\u001b[0;34m\u001b[0m\u001b[0;34m\u001b[0m\u001b[0m\n\u001b[1;32m      4\u001b[0m \u001b[0;32mfrom\u001b[0m \u001b[0mwebdriver_manager\u001b[0m\u001b[0;34m.\u001b[0m\u001b[0mchrome\u001b[0m \u001b[0;32mimport\u001b[0m \u001b[0mChromeDriverManager\u001b[0m\u001b[0;34m\u001b[0m\u001b[0;34m\u001b[0m\u001b[0m\n\u001b[1;32m      5\u001b[0m \u001b[0;32mimport\u001b[0m \u001b[0mrequests\u001b[0m\u001b[0;34m\u001b[0m\u001b[0;34m\u001b[0m\u001b[0m\n",
      "\u001b[0;31mModuleNotFoundError\u001b[0m: No module named 'splinter'"
     ]
    }
   ],
   "source": [
    "# Import Splinter and BeautifulSoup\n",
    "from splinter import Browser\n",
    "from bs4 import BeautifulSoup as soup\n",
    "from webdriver_manager.chrome import ChromeDriverManager\n",
    "import requests\n",
    "import pandas as pd\n",
    "import json\n",
    "#from flask_pymongo import PyMongo\n",
    "from pymongo import MongoClient"
   ]
  },
  {
   "cell_type": "code",
   "execution_count": 307,
   "metadata": {},
   "outputs": [
    {
     "data": {
      "text/html": [
       "<div>\n",
       "<style scoped>\n",
       "    .dataframe tbody tr th:only-of-type {\n",
       "        vertical-align: middle;\n",
       "    }\n",
       "\n",
       "    .dataframe tbody tr th {\n",
       "        vertical-align: top;\n",
       "    }\n",
       "\n",
       "    .dataframe thead th {\n",
       "        text-align: right;\n",
       "    }\n",
       "</style>\n",
       "<table border=\"1\" class=\"dataframe\">\n",
       "  <thead>\n",
       "    <tr style=\"text-align: right;\">\n",
       "      <th></th>\n",
       "      <th>0</th>\n",
       "      <th>2</th>\n",
       "    </tr>\n",
       "  </thead>\n",
       "  <tbody>\n",
       "    <tr>\n",
       "      <th>2</th>\n",
       "      <td>11/29 1:00 PM  255 N.Y. Giants  256 Cincinnati</td>\n",
       "      <td>-6½ -1045u-10</td>\n",
       "    </tr>\n",
       "    <tr>\n",
       "      <th>3</th>\n",
       "      <td>11/29 1:00 PM  257 Cleveland  258 Jacksonville</td>\n",
       "      <td>-7½ -1048½u-10</td>\n",
       "    </tr>\n",
       "    <tr>\n",
       "      <th>4</th>\n",
       "      <td>11/29 1:00 PM  259 Carolina  260 Minnesota</td>\n",
       "      <td>50u-10-3 -10</td>\n",
       "    </tr>\n",
       "    <tr>\n",
       "      <th>5</th>\n",
       "      <td>11/29 1:00 PM  261 Tennessee  262 Indianapolis</td>\n",
       "      <td>51½u-10-3 EV</td>\n",
       "    </tr>\n",
       "    <tr>\n",
       "      <th>6</th>\n",
       "      <td>11/29 1:00 PM  263 L.A. Chargers  264 Buffalo</td>\n",
       "      <td>51½u-10-4 -10</td>\n",
       "    </tr>\n",
       "    <tr>\n",
       "      <th>7</th>\n",
       "      <td>11/29 1:00 PM  265 Miami  266 N.Y. Jets</td>\n",
       "      <td>-7½ -1045½u-10</td>\n",
       "    </tr>\n",
       "    <tr>\n",
       "      <th>8</th>\n",
       "      <td>11/29 4:05 PM  267 New Orleans  268 Denver</td>\n",
       "      <td>-17 -1036½u-10</td>\n",
       "    </tr>\n",
       "    <tr>\n",
       "      <th>9</th>\n",
       "      <td>11/29 4:05 PM  269 San Francisco  270 L.A. Rams</td>\n",
       "      <td>44½u-10-5½ -10</td>\n",
       "    </tr>\n",
       "    <tr>\n",
       "      <th>10</th>\n",
       "      <td>11/29 4:25 PM  271 Kansas City  272 Tampa Bay</td>\n",
       "      <td>-3½ EV56½u-10</td>\n",
       "    </tr>\n",
       "    <tr>\n",
       "      <th>11</th>\n",
       "      <td>11/29 8:20 PM  273 Chicago  274 Green Bay</td>\n",
       "      <td>44½u-10-7½ -10</td>\n",
       "    </tr>\n",
       "    <tr>\n",
       "      <th>12</th>\n",
       "      <td>11/30 8:15 PM  275 Seattle  276 Philadelphia</td>\n",
       "      <td>-6½ -1048½u-10</td>\n",
       "    </tr>\n",
       "    <tr>\n",
       "      <th>15</th>\n",
       "      <td>12/06 1:00 PM  453 Cincinnati  454 Miami</td>\n",
       "      <td>42½u-10-11½ -10</td>\n",
       "    </tr>\n",
       "    <tr>\n",
       "      <th>16</th>\n",
       "      <td>12/06 1:00 PM  455 Indianapolis  456 Houston</td>\n",
       "      <td>-2½ -1054½u-10</td>\n",
       "    </tr>\n",
       "    <tr>\n",
       "      <th>17</th>\n",
       "      <td>12/06 1:00 PM  457 Jacksonville  458 Minnesota</td>\n",
       "      <td>50½u-10-9½ -10</td>\n",
       "    </tr>\n",
       "    <tr>\n",
       "      <th>20</th>\n",
       "      <td>12/06 1:00 PM  463 New Orleans  464 Atlanta</td>\n",
       "      <td>-3½ -1047½u-10</td>\n",
       "    </tr>\n",
       "    <tr>\n",
       "      <th>21</th>\n",
       "      <td>12/06 1:00 PM  465 Cleveland  466 Tennessee</td>\n",
       "      <td>52½u-10-4 -10</td>\n",
       "    </tr>\n",
       "    <tr>\n",
       "      <th>23</th>\n",
       "      <td>12/06 4:05 PM  469 L.A. Rams  470 Arizona</td>\n",
       "      <td>-1½ -1049u-10</td>\n",
       "    </tr>\n",
       "    <tr>\n",
       "      <th>26</th>\n",
       "      <td>12/06 8:20 PM  475 Denver  476 Kansas City</td>\n",
       "      <td>48½u-10-13½ -10</td>\n",
       "    </tr>\n",
       "    <tr>\n",
       "      <th>27</th>\n",
       "      <td>12/07 8:15 PM  477 Buffalo  478 San Francisco</td>\n",
       "      <td>-3 -1048u-10</td>\n",
       "    </tr>\n",
       "  </tbody>\n",
       "</table>\n",
       "</div>"
      ],
      "text/plain": [
       "                                                  0                2\n",
       "2    11/29 1:00 PM  255 N.Y. Giants  256 Cincinnati    -6½ -1045u-10\n",
       "3    11/29 1:00 PM  257 Cleveland  258 Jacksonville   -7½ -1048½u-10\n",
       "4        11/29 1:00 PM  259 Carolina  260 Minnesota     50u-10-3 -10\n",
       "5    11/29 1:00 PM  261 Tennessee  262 Indianapolis     51½u-10-3 EV\n",
       "6     11/29 1:00 PM  263 L.A. Chargers  264 Buffalo    51½u-10-4 -10\n",
       "7           11/29 1:00 PM  265 Miami  266 N.Y. Jets   -7½ -1045½u-10\n",
       "8        11/29 4:05 PM  267 New Orleans  268 Denver   -17 -1036½u-10\n",
       "9   11/29 4:05 PM  269 San Francisco  270 L.A. Rams   44½u-10-5½ -10\n",
       "10    11/29 4:25 PM  271 Kansas City  272 Tampa Bay    -3½ EV56½u-10\n",
       "11        11/29 8:20 PM  273 Chicago  274 Green Bay   44½u-10-7½ -10\n",
       "12     11/30 8:15 PM  275 Seattle  276 Philadelphia   -6½ -1048½u-10\n",
       "15         12/06 1:00 PM  453 Cincinnati  454 Miami  42½u-10-11½ -10\n",
       "16     12/06 1:00 PM  455 Indianapolis  456 Houston   -2½ -1054½u-10\n",
       "17   12/06 1:00 PM  457 Jacksonville  458 Minnesota   50½u-10-9½ -10\n",
       "20      12/06 1:00 PM  463 New Orleans  464 Atlanta   -3½ -1047½u-10\n",
       "21      12/06 1:00 PM  465 Cleveland  466 Tennessee    52½u-10-4 -10\n",
       "23        12/06 4:05 PM  469 L.A. Rams  470 Arizona    -1½ -1049u-10\n",
       "26       12/06 8:20 PM  475 Denver  476 Kansas City  48½u-10-13½ -10\n",
       "27    12/07 8:15 PM  477 Buffalo  478 San Francisco     -3 -1048u-10"
      ]
     },
     "execution_count": 307,
     "metadata": {},
     "output_type": "execute_result"
    }
   ],
   "source": [
    "\n",
    "# Use 'read_html' to scrape the facts table into a dataframe\n",
    "df = pd.read_html('https://www.vegasinsider.com/nfl/odds/las-vegas/', flavor='html5lib')[10]\n",
    "#df\n",
    "#df[[0,2]]\n",
    "#df = df[df[2].notna()]\n",
    "df.dropna(subset=[6], inplace=True)\n",
    "df = df[[0,2]]\n",
    "df\n"
   ]
  },
  {
   "cell_type": "code",
   "execution_count": 308,
   "metadata": {},
   "outputs": [
    {
     "name": "stdout",
     "output_type": "stream",
     "text": [
      "0 2      11/29 1:00 PM  255 N.Y. Giants  256 Cincinnati\n",
      "3      11/29 1:00 PM  257 Cleveland  258 Jacksonville\n",
      "4          11/29 1:00 PM  259 Carolina  260 Minnesota\n",
      "5      11/29 1:00 PM  261 Tennessee  262 Indianapolis\n",
      "6       11/29 1:00 PM  263 L.A. Chargers  264 Buffalo\n",
      "7             11/29 1:00 PM  265 Miami  266 N.Y. Jets\n",
      "8          11/29 4:05 PM  267 New Orleans  268 Denver\n",
      "9     11/29 4:05 PM  269 San Francisco  270 L.A. Rams\n",
      "10      11/29 4:25 PM  271 Kansas City  272 Tampa Bay\n",
      "11          11/29 8:20 PM  273 Chicago  274 Green Bay\n",
      "12       11/30 8:15 PM  275 Seattle  276 Philadelphia\n",
      "15           12/06 1:00 PM  453 Cincinnati  454 Miami\n",
      "16       12/06 1:00 PM  455 Indianapolis  456 Houston\n",
      "17     12/06 1:00 PM  457 Jacksonville  458 Minnesota\n",
      "20        12/06 1:00 PM  463 New Orleans  464 Atlanta\n",
      "21        12/06 1:00 PM  465 Cleveland  466 Tennessee\n",
      "23          12/06 4:05 PM  469 L.A. Rams  470 Arizona\n",
      "26         12/06 8:20 PM  475 Denver  476 Kansas City\n",
      "27      12/07 8:15 PM  477 Buffalo  478 San Francisco\n",
      "Name: 0, dtype: object\n",
      "2 2       -6½ -1045u-10\n",
      "3      -7½ -1048½u-10\n",
      "4        50u-10-3 -10\n",
      "5        51½u-10-3 EV\n",
      "6       51½u-10-4 -10\n",
      "7      -7½ -1045½u-10\n",
      "8      -17 -1036½u-10\n",
      "9      44½u-10-5½ -10\n",
      "10      -3½ EV56½u-10\n",
      "11     44½u-10-7½ -10\n",
      "12     -6½ -1048½u-10\n",
      "15    42½u-10-11½ -10\n",
      "16     -2½ -1054½u-10\n",
      "17     50½u-10-9½ -10\n",
      "20     -3½ -1047½u-10\n",
      "21      52½u-10-4 -10\n",
      "23      -1½ -1049u-10\n",
      "26    48½u-10-13½ -10\n",
      "27       -3 -1048u-10\n",
      "Name: 2, dtype: object\n"
     ]
    }
   ],
   "source": [
    "for key, value in df.iteritems(): \n",
    "    print(key, value) \n"
   ]
  },
  {
   "cell_type": "markdown",
   "metadata": {},
   "source": [
    "## Try BeautifulSoup"
   ]
  },
  {
   "cell_type": "code",
   "execution_count": 309,
   "metadata": {},
   "outputs": [
    {
     "name": "stderr",
     "output_type": "stream",
     "text": [
      "[WDM] - Current google-chrome version is 86.0.4240\n",
      "[WDM] - Get LATEST driver version for 86.0.4240\n",
      "[WDM] - Driver [/Users/jrichards/.wdm/drivers/chromedriver/mac64/86.0.4240.22/chromedriver] found in cache\n"
     ]
    },
    {
     "name": "stdout",
     "output_type": "stream",
     "text": [
      " \n"
     ]
    }
   ],
   "source": [
    "# Setup splinter\n",
    "executable_path = {'executable_path': ChromeDriverManager().install()}\n",
    "browser = Browser('chrome', **executable_path, headless=False)"
   ]
  },
  {
   "cell_type": "code",
   "execution_count": 310,
   "metadata": {},
   "outputs": [
    {
     "data": {
      "text/plain": [
       "True"
      ]
     },
     "execution_count": 310,
     "metadata": {},
     "output_type": "execute_result"
    }
   ],
   "source": [
    "url = 'https://www.vegasinsider.com/nfl/odds/las-vegas/'\n",
    "browser.visit(url)\n",
    "# Optional delay for loading the page\n",
    "browser.is_element_present_by_css(\".frodds-data-tbl\", wait_time=3)\n",
    "#print(browser.html)\n",
    "# does this exist?"
   ]
  },
  {
   "cell_type": "markdown",
   "metadata": {},
   "source": [
    "# Function to get the spread odds"
   ]
  },
  {
   "cell_type": "code",
   "execution_count": 311,
   "metadata": {},
   "outputs": [],
   "source": [
    "def get_spread_odds(table_rows):\n",
    "    \n",
    "    results = []\n",
    "    \n",
    "    for row in table_rows:\n",
    "    \n",
    "        # place to put the odds once parsed\n",
    "        odds = []\n",
    "    \n",
    "        # Get all <td> tag contents, which are the columns\n",
    "        columns = row.find_all(\"td\")\n",
    "    \n",
    "        # Get the anchor tag text. Only interested in column index 2, the \"VI Consensus\"\n",
    "        a = columns[2].find(\"a\").contents\n",
    "        #print(a)\n",
    "    \n",
    "        # Now cones the hard part - parse this \n",
    "        parts = a[2].split('\\xa0')\n",
    "        #print(parts)\n",
    "    \n",
    "        # If there is only one text element, then need to split on the \"-\"\n",
    "        if len(parts) == 1:\n",
    "            parts[0] = parts[0].replace(\"½\", \".6\")\n",
    "            #print(parts)\n",
    "            parts = parts[0].split(\"-\")\n",
    "            parts[1] = '-' + parts[1]\n",
    "            odds.append(parts[0])\n",
    "            odds.append(parts[1])\n",
    "            #print(\"##\" + str(parts))\n",
    "        else:\n",
    "            parts[0] = parts[0].replace(\"½\", \".5\")\n",
    "            odds.append(parts[0])\n",
    "            odds.append(parts[1])\n",
    "            #print(parts)\n",
    "        \n",
    "        \n",
    "        # Now get the next odds from the second line\n",
    "        parts = a[4].split('\\xa0')\n",
    "        #print(len(parts))\n",
    "        # If there is only one text element, then need to split on the \"-\"\n",
    "        if len(parts) == 1:\n",
    "            parts[0] = parts[0].replace(\"½\", \".6\")\n",
    "            #print(parts)\n",
    "            parts = parts[0].split(\"-\")\n",
    "            parts[1] = '-' + parts[1]\n",
    "            odds.append(parts[0])\n",
    "            odds.append(parts[1].replace(\"\\n\", \"\").replace(\"\\t\",\"\"))\n",
    "            #print(\"##\" + str(parts))\n",
    "        else:\n",
    "            parts[0] = parts[0].replace(\"½\", \".5\")\n",
    "            odds.append(parts[0])\n",
    "            odds.append(parts[1].replace(\"\\n\", \"\").replace(\"\\t\",\"\"))\n",
    "            #print(parts)\n",
    "            \n",
    "        results.append(odds)\n",
    "    \n",
    "    return results"
   ]
  },
  {
   "cell_type": "markdown",
   "metadata": {},
   "source": [
    "# Function to get the team names and ids"
   ]
  },
  {
   "cell_type": "code",
   "execution_count": 312,
   "metadata": {},
   "outputs": [],
   "source": [
    "def get_game_info(table_rows):\n",
    "    \n",
    "    results = []\n",
    "    \n",
    "    for row in table_rows:\n",
    "        \n",
    "        teams_info = []\n",
    "        \n",
    "        # Get all <td> tag contents, which are the columns\n",
    "        columns = row.find_all(\"td\")\n",
    "        \n",
    "        info = columns[0].contents\n",
    "        id1 = info[3].replace('\\n', '').replace('\\t','').replace('\\xa0', '')\n",
    "        team1 = info[4].text\n",
    "        id2 = info[6].replace('\\n', '').replace('\\t','').replace('\\xa0', '')\n",
    "        team2 = info[7].text\n",
    "        #print(str(id1), team1, id2, team2)\n",
    "        \n",
    "        teams_info.append(id1)\n",
    "        teams_info.append(team1)\n",
    "        teams_info.append(id2)\n",
    "        teams_info.append(team2)\n",
    "        \n",
    "        results.append(teams_info)\n",
    "        \n",
    "    return results"
   ]
  },
  {
   "cell_type": "markdown",
   "metadata": {},
   "source": [
    "# Open the page and get the table defines with class frodds-data-tbl"
   ]
  },
  {
   "cell_type": "code",
   "execution_count": 313,
   "metadata": {},
   "outputs": [],
   "source": [
    "html = browser.html\n",
    "news_soup = soup(html, 'html.parser')\n",
    "the_table = news_soup.select_one(\".frodds-data-tbl\")\n",
    "#print(my_elem)\n",
    "table_rows = my_elem.find_all(\"tr\")"
   ]
  },
  {
   "cell_type": "markdown",
   "metadata": {},
   "source": [
    "# Get the spread odds"
   ]
  },
  {
   "cell_type": "code",
   "execution_count": 314,
   "metadata": {},
   "outputs": [
    {
     "name": "stdout",
     "output_type": "stream",
     "text": [
      "[['-3.5', '-10', '53u', '-10'], ['-1', '-10', '50.6u', '-10'], ['-6.5', '-10', '45u', '-10'], ['-7', '-11', '47.6o', '-22'], ['50u', '-10', '-3', '-10'], ['51u', '-10', '-3', 'EV'], ['51.6u', '-10', '-4', '-10'], ['-7.5', '-10', '45u', '-10'], ['-16.5', '-10', '36.6u', '-10'], ['44.6u', '-10', '-5.5', '-10'], ['-3.5', '-10', '56u', '-10'], ['44.6u', '-10', '-8', '-10'], ['-6.5', '-10', '48.6u', '-10'], ['41.6u', '-10', '-10', '-10']]\n"
     ]
    }
   ],
   "source": [
    "odds = get_spread_odds(table_rows)\n",
    "print(odds)"
   ]
  },
  {
   "cell_type": "markdown",
   "metadata": {},
   "source": [
    "# Get the team names"
   ]
  },
  {
   "cell_type": "code",
   "execution_count": 315,
   "metadata": {},
   "outputs": [
    {
     "data": {
      "text/plain": [
       "[['251', 'Las Vegas', '252', 'Atlanta'],\n",
       " ['253', 'Arizona', '254', 'New England'],\n",
       " ['255', 'N.Y. Giants', '256', 'Cincinnati'],\n",
       " ['257', 'Cleveland', '258', 'Jacksonville'],\n",
       " ['259', 'Carolina', '260', 'Minnesota'],\n",
       " ['261', 'Tennessee', '262', 'Indianapolis'],\n",
       " ['263', 'L.A. Chargers', '264', 'Buffalo'],\n",
       " ['265', 'Miami', '266', 'N.Y. Jets'],\n",
       " ['267', 'New Orleans', '268', 'Denver'],\n",
       " ['269', 'San Francisco', '270', 'L.A. Rams'],\n",
       " ['271', 'Kansas City', '272', 'Tampa Bay'],\n",
       " ['273', 'Chicago', '274', 'Green Bay'],\n",
       " ['275', 'Seattle', '276', 'Philadelphia'],\n",
       " ['279', 'Baltimore', '280', 'Pittsburgh']]"
      ]
     },
     "execution_count": 315,
     "metadata": {},
     "output_type": "execute_result"
    }
   ],
   "source": [
    "info = get_game_info(table_rows)\n",
    "info"
   ]
  },
  {
   "cell_type": "markdown",
   "metadata": {},
   "source": [
    "# Create a list of dictionaries of the game info and spread"
   ]
  },
  {
   "cell_type": "code",
   "execution_count": 320,
   "metadata": {},
   "outputs": [
    {
     "name": "stdout",
     "output_type": "stream",
     "text": [
      "[{'_id': '251_252', 'id1': '251', 'team1': 'Las Vegas', 'id2': '252', 'team2': 'Atlanta'}, {'_id': '253_254', 'id1': '253', 'team1': 'Arizona', 'id2': '254', 'team2': 'New England'}, {'_id': '255_256', 'id1': '255', 'team1': 'N.Y. Giants', 'id2': '256', 'team2': 'Cincinnati'}, {'_id': '257_258', 'id1': '257', 'team1': 'Cleveland', 'id2': '258', 'team2': 'Jacksonville'}, {'_id': '259_260', 'id1': '259', 'team1': 'Carolina', 'id2': '260', 'team2': 'Minnesota'}, {'_id': '261_262', 'id1': '261', 'team1': 'Tennessee', 'id2': '262', 'team2': 'Indianapolis'}, {'_id': '263_264', 'id1': '263', 'team1': 'L.A. Chargers', 'id2': '264', 'team2': 'Buffalo'}, {'_id': '265_266', 'id1': '265', 'team1': 'Miami', 'id2': '266', 'team2': 'N.Y. Jets'}, {'_id': '267_268', 'id1': '267', 'team1': 'New Orleans', 'id2': '268', 'team2': 'Denver'}, {'_id': '269_270', 'id1': '269', 'team1': 'San Francisco', 'id2': '270', 'team2': 'L.A. Rams'}, {'_id': '271_272', 'id1': '271', 'team1': 'Kansas City', 'id2': '272', 'team2': 'Tampa Bay'}, {'_id': '273_274', 'id1': '273', 'team1': 'Chicago', 'id2': '274', 'team2': 'Green Bay'}, {'_id': '275_276', 'id1': '275', 'team1': 'Seattle', 'id2': '276', 'team2': 'Philadelphia'}, {'_id': '279_280', 'id1': '279', 'team1': 'Baltimore', 'id2': '280', 'team2': 'Pittsburgh'}]\n"
     ]
    }
   ],
   "source": [
    "spread_list = []\n",
    "for index in range(len(info)):\n",
    "    \n",
    "    game = {\n",
    "        '_id' : info[index][0] + \"_\" + info[index][2],\n",
    "        'id1' : info[index][0],\n",
    "        'team1' : info[index][1],\n",
    "        'id2' : info[index][2],\n",
    "        'team2' : info[index][3],\n",
    "    }\n",
    "    spread_list.append(game)\n",
    "    \n",
    "print(spread_list)\n",
    "    "
   ]
  },
  {
   "cell_type": "code",
   "execution_count": 321,
   "metadata": {},
   "outputs": [],
   "source": [
    "# Use flask_pymongo to set up mongo connection\n",
    "client = MongoClient(port=27017)"
   ]
  },
  {
   "cell_type": "code",
   "execution_count": 326,
   "metadata": {},
   "outputs": [
    {
     "name": "stdout",
     "output_type": "stream",
     "text": [
      "<pymongo.results.InsertOneResult object at 0x11cc63780>\n",
      "<pymongo.results.InsertOneResult object at 0x11cd4cf00>\n",
      "<pymongo.results.InsertOneResult object at 0x11d392960>\n",
      "<pymongo.results.InsertOneResult object at 0x11cc63780>\n",
      "<pymongo.results.InsertOneResult object at 0x11cd4cf00>\n",
      "<pymongo.results.InsertOneResult object at 0x11d392960>\n",
      "<pymongo.results.InsertOneResult object at 0x11cc63780>\n",
      "<pymongo.results.InsertOneResult object at 0x11cd4cf00>\n",
      "<pymongo.results.InsertOneResult object at 0x11d392960>\n",
      "<pymongo.results.InsertOneResult object at 0x11cc63780>\n",
      "<pymongo.results.InsertOneResult object at 0x11cd4cf00>\n",
      "<pymongo.results.InsertOneResult object at 0x11d392960>\n",
      "<pymongo.results.InsertOneResult object at 0x11cc63780>\n",
      "<pymongo.results.InsertOneResult object at 0x11cd4cf00>\n"
     ]
    }
   ],
   "source": [
    "db = client.spread\n",
    "db.spread.delete_many({}) # Delete any that exists\n",
    "for info in spread_list:\n",
    "    result = db.spread.insert_one(info)\n",
    "    print(result)"
   ]
  },
  {
   "cell_type": "code",
   "execution_count": null,
   "metadata": {},
   "outputs": [],
   "source": []
  }
 ],
 "metadata": {
  "kernelspec": {
   "display_name": "Python [conda env:learn-env]",
   "language": "python",
   "name": "conda-env-learn-env-py"
  },
  "language_info": {
   "codemirror_mode": {
    "name": "ipython",
    "version": 3
   },
   "file_extension": ".py",
   "mimetype": "text/x-python",
   "name": "python",
   "nbconvert_exporter": "python",
   "pygments_lexer": "ipython3",
   "version": "3.6.9"
  }
 },
 "nbformat": 4,
 "nbformat_minor": 4
}
