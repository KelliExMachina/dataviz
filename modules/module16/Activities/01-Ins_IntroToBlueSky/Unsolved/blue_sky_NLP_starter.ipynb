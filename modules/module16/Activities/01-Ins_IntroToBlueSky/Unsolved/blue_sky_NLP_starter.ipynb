{
 "cells": [
  {
   "cell_type": "code",
   "execution_count": null,
   "metadata": {
    "colab": {
     "base_uri": "https://localhost:8080/",
     "height": 340
    },
    "id": "8Ba5cHmgjpn7",
    "outputId": "38853d9a-9e25-48b3-ebbe-9848dafbb209"
   },
   "outputs": [],
   "source": [
    "# Code that you must run first inorder to use Spark..."
   ]
  },
  {
   "cell_type": "code",
   "execution_count": null,
   "metadata": {
    "id": "XyUv4abqjkof"
   },
   "outputs": [],
   "source": [
    "# You will need these imported\n",
    "from pyspark.ml.feature import Tokenizer, HashingTF, IDF\n",
    "from pyspark.sql.functions import col, udf\n",
    "from pyspark.sql.types import IntegerType\n",
    "from pyspark.sql.types import StringType\n",
    "from pyspark.ml.feature import StopWordsRemover"
   ]
  },
  {
   "cell_type": "code",
   "execution_count": null,
   "metadata": {
    "id": "QHYBC46Xjkom"
   },
   "outputs": [],
   "source": [
    "# Create a DataFrame with hotel review dataset\n"
   ]
  },
  {
   "cell_type": "code",
   "execution_count": null,
   "metadata": {
    "id": "DqpXq9MQjkoq"
   },
   "outputs": [],
   "source": [
    "# Show DataFrame\n"
   ]
  },
  {
   "cell_type": "code",
   "execution_count": null,
   "metadata": {
    "id": "O7wJU0_Cjkow"
   },
   "outputs": [],
   "source": [
    "# Tokenize word\n"
   ]
  },
  {
   "cell_type": "code",
   "execution_count": null,
   "metadata": {
    "id": "xHYnBPMqjko0"
   },
   "outputs": [],
   "source": [
    "# Transform and show DataFrame\n"
   ]
  },
  {
   "cell_type": "code",
   "execution_count": null,
   "metadata": {
    "id": "k92zPWKjkGzp"
   },
   "outputs": [],
   "source": [
    "# Create review_length() UDF\n"
   ]
  },
  {
   "cell_type": "code",
   "execution_count": null,
   "metadata": {
    "id": "FMdS__E28ph1"
   },
   "outputs": [],
   "source": [
    "# Create UDF in PySpark"
   ]
  },
  {
   "cell_type": "code",
   "execution_count": null,
   "metadata": {
    "id": "iv2Q4kHDReNv"
   },
   "outputs": [],
   "source": [
    "# Select the needed columns and don't truncate results\n"
   ]
  },
  {
   "cell_type": "code",
   "execution_count": null,
   "metadata": {
    "id": "DT9q75DKIeaN"
   },
   "outputs": [],
   "source": [
    "# Select the needed columns, average the column, and don't truncate results\n"
   ]
  },
  {
   "cell_type": "code",
   "execution_count": null,
   "metadata": {
    "id": "f-yU8x2cHWmB"
   },
   "outputs": [],
   "source": [
    "# Find the average hotel rating\n"
   ]
  },
  {
   "cell_type": "code",
   "execution_count": null,
   "metadata": {
    "id": "Jna6X3CkH1Gq"
   },
   "outputs": [],
   "source": [
    "# Instantiate Remover\n",
    "\n",
    "\n",
    "# Transform and show data\n"
   ]
  },
  {
   "cell_type": "code",
   "execution_count": null,
   "metadata": {
    "id": "3IlcQFBvJTlg"
   },
   "outputs": [],
   "source": [
    "# Run hashing term frequency\n",
    "\n",
    "\n",
    "# Transform into a DF\n"
   ]
  },
  {
   "cell_type": "code",
   "execution_count": null,
   "metadata": {
    "id": "yZ9jg_WSMlhi"
   },
   "outputs": [],
   "source": [
    "# Display new DataFrame\n"
   ]
  },
  {
   "cell_type": "code",
   "execution_count": null,
   "metadata": {
    "id": "fKq_8Gp5MpWN"
   },
   "outputs": [],
   "source": [
    "# Fit the IDF on the data set \n"
   ]
  },
  {
   "cell_type": "code",
   "execution_count": null,
   "metadata": {
    "id": "XuxmQXX9MrzS"
   },
   "outputs": [],
   "source": [
    "# Display the DataFrame\n"
   ]
  }
 ],
 "metadata": {
  "colab": {
   "collapsed_sections": [],
   "name": "blue_sky_NLP_starter.ipynb",
   "provenance": [],
   "toc_visible": true
  },
  "kernelspec": {
   "display_name": "Python 3",
   "language": "python",
   "name": "python3"
  },
  "language_info": {
   "codemirror_mode": {
    "name": "ipython",
    "version": 3
   },
   "file_extension": ".py",
   "mimetype": "text/x-python",
   "name": "python",
   "nbconvert_exporter": "python",
   "pygments_lexer": "ipython3",
   "version": "3.7.7"
  },
  "varInspector": {
   "cols": {
    "lenName": 16,
    "lenType": 16,
    "lenVar": 40
   },
   "kernels_config": {
    "python": {
     "delete_cmd_postfix": "",
     "delete_cmd_prefix": "del ",
     "library": "var_list.py",
     "varRefreshCmd": "print(var_dic_list())"
    },
    "r": {
     "delete_cmd_postfix": ") ",
     "delete_cmd_prefix": "rm(",
     "library": "var_list.r",
     "varRefreshCmd": "cat(var_dic_list()) "
    }
   },
   "types_to_exclude": [
    "module",
    "function",
    "builtin_function_or_method",
    "instance",
    "_Feature"
   ],
   "window_display": false
  }
 },
 "nbformat": 4,
 "nbformat_minor": 4
}
