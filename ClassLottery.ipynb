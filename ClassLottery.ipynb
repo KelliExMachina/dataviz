{
 "metadata": {
  "language_info": {
   "codemirror_mode": {
    "name": "ipython",
    "version": 3
   },
   "file_extension": ".py",
   "mimetype": "text/x-python",
   "name": "python",
   "nbconvert_exporter": "python",
   "pygments_lexer": "ipython3",
   "version": "3.6.9-final"
  },
  "orig_nbformat": 2,
  "kernelspec": {
   "name": "python3",
   "display_name": "Python 3",
   "language": "python"
  }
 },
 "nbformat": 4,
 "nbformat_minor": 2,
 "cells": [
  {
   "cell_type": "code",
   "execution_count": 43,
   "metadata": {},
   "outputs": [
    {
     "output_type": "execute_result",
     "data": {
      "text/plain": [
       "   Unnamed: 0       Unnamed: 1  Unnamed: 2  Unnamed: 3  Unnamed: 4  \\\n",
       "0         NaN        Amy Tieku         NaN         NaN         NaN   \n",
       "1         NaN      Archi Singh         NaN         NaN         NaN   \n",
       "2         NaN     Britni Grimm         NaN         NaN         NaN   \n",
       "3         NaN  Devin Hollister         NaN         NaN         NaN   \n",
       "4         NaN      Ellen Shuan         NaN         NaN         NaN   \n",
       "\n",
       "   Unnamed: 5  Unnamed: 6  \n",
       "0         NaN         NaN  \n",
       "1         NaN         NaN  \n",
       "2         NaN         NaN  \n",
       "3         NaN         NaN  \n",
       "4         NaN         NaN  "
      ],
      "text/html": "<div>\n<style scoped>\n    .dataframe tbody tr th:only-of-type {\n        vertical-align: middle;\n    }\n\n    .dataframe tbody tr th {\n        vertical-align: top;\n    }\n\n    .dataframe thead th {\n        text-align: right;\n    }\n</style>\n<table border=\"1\" class=\"dataframe\">\n  <thead>\n    <tr style=\"text-align: right;\">\n      <th></th>\n      <th>Unnamed: 0</th>\n      <th>Unnamed: 1</th>\n      <th>Unnamed: 2</th>\n      <th>Unnamed: 3</th>\n      <th>Unnamed: 4</th>\n      <th>Unnamed: 5</th>\n      <th>Unnamed: 6</th>\n    </tr>\n  </thead>\n  <tbody>\n    <tr>\n      <th>0</th>\n      <td>NaN</td>\n      <td>Amy Tieku</td>\n      <td>NaN</td>\n      <td>NaN</td>\n      <td>NaN</td>\n      <td>NaN</td>\n      <td>NaN</td>\n    </tr>\n    <tr>\n      <th>1</th>\n      <td>NaN</td>\n      <td>Archi Singh</td>\n      <td>NaN</td>\n      <td>NaN</td>\n      <td>NaN</td>\n      <td>NaN</td>\n      <td>NaN</td>\n    </tr>\n    <tr>\n      <th>2</th>\n      <td>NaN</td>\n      <td>Britni Grimm</td>\n      <td>NaN</td>\n      <td>NaN</td>\n      <td>NaN</td>\n      <td>NaN</td>\n      <td>NaN</td>\n    </tr>\n    <tr>\n      <th>3</th>\n      <td>NaN</td>\n      <td>Devin Hollister</td>\n      <td>NaN</td>\n      <td>NaN</td>\n      <td>NaN</td>\n      <td>NaN</td>\n      <td>NaN</td>\n    </tr>\n    <tr>\n      <th>4</th>\n      <td>NaN</td>\n      <td>Ellen Shuan</td>\n      <td>NaN</td>\n      <td>NaN</td>\n      <td>NaN</td>\n      <td>NaN</td>\n      <td>NaN</td>\n    </tr>\n  </tbody>\n</table>\n</div>"
     },
     "metadata": {},
     "execution_count": 43
    }
   ],
   "source": [
    "import random\n",
    "import pandas as pd\n",
    "import numpy as np\n",
    "class_df = pd.read_csv('ClassFinal.csv',sep = ',',index_col=None)\n",
    "class_df.head()"
   ]
  },
  {
   "cell_type": "code",
   "execution_count": 45,
   "metadata": {},
   "outputs": [
    {
     "output_type": "stream",
     "name": "stdout",
     "text": [
      "['Amy Tieku', 'Archi Singh', 'Britni Grimm', 'Devin Hollister', 'Ellen Shuan', 'Harini Narayanam', 'Jacob Sambajon', 'John Salvador', 'Jordan Echeverria', 'Maggie McPhail', 'Miguel Diaz', 'Jackie Pimchanya', 'Ren Yildiz', 'Sebastian Campos', 'Toai-nguyen', 'Zahra Tavakoli', 'Bansi Hrdeyjot', 'Maya Singh', 'Joseph Shanu']\n"
     ]
    }
   ],
   "source": [
    "class_df.rename(columns={'Unnamed: 1':'Roll'}, inplace=True)\n",
    "class_list = list(class_df['Roll'])\n",
    "print(class_list)"
   ]
  },
  {
   "cell_type": "code",
   "execution_count": 59,
   "metadata": {},
   "outputs": [],
   "source": [
    "group = 1\n",
    "num_in_group = 0\n",
    "class_list = ['Amy Tieku', 'Archi Singh', 'Britni Grimm', 'Devin Hollister', 'Ellen Shuan', 'Harini Narayanam', 'Jacob Sambajon', 'John Salvador', 'Jordan Echeverria', 'Maggie McPhail', 'Miguel Diaz', 'Jackie Pimchanya', 'Ren Yildiz', 'Sebastian Campos', 'Toai-nguyen', 'Zahra Tavakoli', 'Bansi Hrdeyjot', 'Maya Singh', 'Joseph Shanu']\n",
    "random.shuffle(class_list)\n"
   ]
  },
  {
   "cell_type": "code",
   "execution_count": 60,
   "metadata": {},
   "outputs": [
    {
     "output_type": "stream",
     "name": "stdout",
     "text": [
      "['Miguel Diaz', 'Joseph Shanu', 'Jordan Echeverria', 'Britni Grimm', 'Zahra Tavakoli', 'John Salvador', 'Toai-nguyen', 'Amy Tieku', 'Jacob Sambajon', 'Archi Singh', 'Harini Narayanam', 'Devin Hollister', 'Ren Yildiz', 'Maya Singh', 'Jackie Pimchanya', 'Maggie McPhail', 'Sebastian Campos', 'Bansi Hrdeyjot', 'Ellen Shuan']\n"
     ]
    },
    {
     "output_type": "execute_result",
     "data": {
      "text/plain": [
       "19"
      ]
     },
     "metadata": {},
     "execution_count": 60
    }
   ],
   "source": [
    "print(class_list)\n",
    "len(class_list)"
   ]
  },
  {
   "cell_type": "code",
   "execution_count": 61,
   "metadata": {},
   "outputs": [
    {
     "output_type": "stream",
     "name": "stdout",
     "text": [
      "Group 1 consists of:\nMiguel Diaz\nJoseph Shanu\nJordan Echeverria\nBritni Grimm\n\n\nGroup 2 consists of:\nZahra Tavakoli\nJohn Salvador\nToai-nguyen\nAmy Tieku\n\n\nGroup 3 consists of:\nJacob Sambajon\nArchi Singh\nHarini Narayanam\nDevin Hollister\n\n\nGroup 4 consists of:\nRen Yildiz\nMaya Singh\nJackie Pimchanya\nMaggie McPhail\n\n\nGroup 5 consists of:\nSebastian Campos\nBansi Hrdeyjot\nEllen Shuan\n"
     ]
    }
   ],
   "source": [
    "print(f'Group {group} consists of:')\n",
    "for member in class_list:\n",
    "    if num_in_group == 4:\n",
    "        group+=1\n",
    "        print(\"\\n\")\n",
    "        print(f'Group {group} consists of:')\n",
    "       \n",
    "        num_in_group = 0  \n",
    "    print(member)\n",
    "    num_in_group += 1\n",
    "    "
   ]
  },
  {
   "cell_type": "code",
   "execution_count": null,
   "metadata": {},
   "outputs": [],
   "source": []
  }
 ]
}